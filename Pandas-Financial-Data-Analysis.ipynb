{
 "cells": [
  {
   "cell_type": "markdown",
   "metadata": {},
   "source": [
    "# Pandas & Financial Data Analysis"
   ]
  },
  {
   "cell_type": "markdown",
   "metadata": {},
   "source": [
    "#### Market data dashboard:\n",
    "- Download data for multiple stocks using yfinance\n",
    "- Calculate daily returns and volatility\n",
    "- Generate performance summary using pandas"
   ]
  },
  {
   "cell_type": "code",
   "execution_count": 9,
   "metadata": {},
   "outputs": [
    {
     "name": "stderr",
     "output_type": "stream",
     "text": [
      "[*********************100%***********************]  4 of 4 completed"
     ]
    },
    {
     "name": "stdout",
     "output_type": "stream",
     "text": [
      "Market Data Dashboard Performance Summary:\n",
      "        Mean Daily Return  Daily Volatility  Annualized Volatility  \\\n",
      "Ticker                                                               \n",
      "AAPL             0.001835          0.012570               0.199543   \n",
      "GOOGL            0.001990          0.019149               0.303982   \n",
      "MSFT             0.001972          0.015824               0.251203   \n",
      "WMT              0.000485          0.009844               0.156262   \n",
      "\n",
      "        Max Daily Return  Min Daily Return  \n",
      "Ticker                                      \n",
      "AAPL            0.046927         -0.048020  \n",
      "GOOGL           0.072787         -0.095094  \n",
      "MSFT            0.072434         -0.043743  \n",
      "WMT             0.024499         -0.080928  \n"
     ]
    },
    {
     "name": "stderr",
     "output_type": "stream",
     "text": [
      "\n"
     ]
    }
   ],
   "source": [
    "import yfinance as yf\n",
    "import pandas as pd\n",
    "import numpy as np\n",
    "\n",
    "# Define stock tickers and date range\n",
    "tickers = ['AAPL', 'MSFT', 'GOOGL', 'WMT']\n",
    "start_date = '2023-01-01'\n",
    "end_date = '2024-01-01'\n",
    "\n",
    "# Download adjusted close prices for all tickers\n",
    "data = yf.download(tickers, start=start_date, end=end_date)['Close']\n",
    "\n",
    "# Calculate daily returns\n",
    "daily_returns = data.pct_change().dropna()\n",
    "\n",
    "# Compute volatility (daily and annualized)\n",
    "daily_volatility = daily_returns.std()\n",
    "annualized_volatility = daily_volatility * np.sqrt(252)\n",
    "\n",
    "# Generate performance summary\n",
    "performance_summary = pd.DataFrame({\n",
    "    'Mean Daily Return': daily_returns.mean(),\n",
    "    'Daily Volatility': daily_volatility,\n",
    "    'Annualized Volatility': annualized_volatility,\n",
    "    'Max Daily Return': daily_returns.max(),\n",
    "    'Min Daily Return': daily_returns.min()\n",
    "})\n",
    "\n",
    "print(\"Market Data Dashboard Performance Summary:\")\n",
    "print(performance_summary)\n",
    "\n"
   ]
  },
  {
   "cell_type": "markdown",
   "metadata": {},
   "source": [
    "#### Technical analysis system:\n",
    "- Calculate various moving averages\n",
    "- Generate trading signals\n",
    "- Backtest strategy performance"
   ]
  },
  {
   "cell_type": "code",
   "execution_count": 11,
   "metadata": {},
   "outputs": [
    {
     "name": "stderr",
     "output_type": "stream",
     "text": [
      "[*********************100%***********************]  1 of 1 completed"
     ]
    },
    {
     "name": "stdout",
     "output_type": "stream",
     "text": [
      "Technical Analysis System (Last 10 Days):\n",
      "Price            Close       SMA_5      SMA_20 Signal  \\\n",
      "Ticker            AAPL                                  \n",
      "Date                                                    \n",
      "2023-12-15  196.390900  195.134433  191.375502      1   \n",
      "2023-12-18  194.720901  195.673199  191.683651      1   \n",
      "2023-12-19  195.764648  196.116534  191.956513      1   \n",
      "2023-12-20  193.667252  195.494272  192.164763      1   \n",
      "2023-12-21  193.518127  194.812366  192.332257      1   \n",
      "2023-12-22  192.444595  194.023105  192.512675      1   \n",
      "2023-12-26  191.897873  193.458499  192.674702      1   \n",
      "2023-12-27  191.997269  192.705023  192.811382     -1   \n",
      "2023-12-28  192.424713  192.456516  193.020627     -1   \n",
      "2023-12-29  191.380966  192.029083  193.148857     -1   \n",
      "\n",
      "Price      Cumulative Strategy Return Cumulative Market Return  \n",
      "Ticker                                                          \n",
      "Date                                                            \n",
      "2023-12-15                   0.954970                 1.588505  \n",
      "2023-12-18                   0.946849                 1.574997  \n",
      "2023-12-19                   0.951925                 1.583440  \n",
      "2023-12-20                   0.941726                 1.566475  \n",
      "2023-12-21                   0.941001                 1.565269  \n",
      "2023-12-22                   0.935781                 1.556586  \n",
      "2023-12-26                   0.933122                 1.552163  \n",
      "2023-12-27                   0.933605                 1.552967  \n",
      "2023-12-28                   0.931527                 1.556425  \n",
      "2023-12-29                   0.936580                 1.547982  \n"
     ]
    },
    {
     "name": "stderr",
     "output_type": "stream",
     "text": [
      "\n"
     ]
    }
   ],
   "source": [
    "import yfinance as yf\n",
    "import pandas as pd\n",
    "import numpy as np\n",
    "\n",
    "# Define the ticker and date range\n",
    "ticker = 'AAPL'\n",
    "start_date = '2023-01-01'\n",
    "end_date = '2024-01-01'\n",
    "\n",
    "# Download historical data\n",
    "df = yf.download(ticker, start=start_date, end=end_date)\n",
    "\n",
    "# Calculate moving averages\n",
    "df['SMA_5'] = df['Close'].rolling(window=5).mean()\n",
    "df['SMA_20'] = df['Close'].rolling(window=20).mean()\n",
    "\n",
    "# Generate trading signals: 1 (Buy) when short MA > long MA; -1 (Sell) otherwise\n",
    "df['Signal'] = np.where(df['SMA_5'] > df['SMA_20'], 1, -1)\n",
    "\n",
    "# Backtest strategy: Shift signal by 1 to avoid lookahead bias and multiply by daily return\n",
    "df['Daily Return'] = df['Close'].pct_change()\n",
    "df['Strategy Return'] = df['Signal'].shift(1) * df['Daily Return']\n",
    "df['Cumulative Strategy Return'] = (1 + df['Strategy Return']).cumprod()\n",
    "df['Cumulative Market Return'] = (1 + df['Daily Return']).cumprod()\n",
    "\n",
    "print(\"Technical Analysis System (Last 10 Days):\")\n",
    "print(df[['Close', 'SMA_5', 'SMA_20', 'Signal', 'Cumulative Strategy Return', 'Cumulative Market Return']].tail(10))\n",
    "\n"
   ]
  },
  {
   "cell_type": "markdown",
   "metadata": {},
   "source": [
    "#### Portfolio analysis tool:\n",
    "- Track multiple stocks performance\n",
    "- Calculate portfolio statistics\n",
    "- Generate risk metrics (Beta, Sharpe Ratio)"
   ]
  },
  {
   "cell_type": "code",
   "execution_count": 16,
   "metadata": {},
   "outputs": [
    {
     "name": "stderr",
     "output_type": "stream",
     "text": [
      "[*********************100%***********************]  4 of 4 completed\n",
      "[*********************100%***********************]  1 of 1 completed"
     ]
    },
    {
     "name": "stdout",
     "output_type": "stream",
     "text": [
      "Portfolio Analysis Tool:\n",
      "   Annualized Return  Annualized Volatility  Sharpe Ratio      Beta\n",
      "0           0.412948               0.175669      2.350713  1.066479\n"
     ]
    },
    {
     "name": "stderr",
     "output_type": "stream",
     "text": [
      "\n"
     ]
    }
   ],
   "source": [
    "import yfinance as yf\n",
    "import pandas as pd\n",
    "import numpy as np\n",
    "\n",
    "# Define portfolio tickers, allocations, and date range\n",
    "tickers = ['AAPL', 'MSFT', 'GOOGL', 'WMT']\n",
    "weights = np.array([0.3, 0.3, 0.2, 0.2])\n",
    "start_date = '2023-01-01'\n",
    "end_date = '2024-01-01'\n",
    "\n",
    "# Download adjusted close prices for portfolio stocks\n",
    "data = yf.download(tickers, start=start_date, end=end_date)['Close']\n",
    "# Calculate daily returns for portfolio stocks\n",
    "returns = data.pct_change().dropna()\n",
    "\n",
    "# Calculate portfolio daily returns as weighted sum\n",
    "portfolio_returns = (returns * weights).sum(axis=1)\n",
    "\n",
    "# Download benchmark (S&P 500) data and calculate daily returns\n",
    "spy = yf.download('^GSPC', start=start_date, end=end_date)['Close']\n",
    "spy_returns = spy.pct_change().dropna()\n",
    "\n",
    "# Align dates between portfolio and benchmark\n",
    "common_dates = portfolio_returns.index.intersection(spy_returns.index)\n",
    "portfolio_returns = portfolio_returns.loc[common_dates]\n",
    "spy_returns = spy_returns.loc[common_dates]\n",
    "\n",
    "# Convert both series to 1D numpy arrays\n",
    "port_arr = portfolio_returns.to_numpy().flatten()\n",
    "spy_arr = spy_returns.to_numpy().flatten()\n",
    "\n",
    "# Check if both arrays have the same length\n",
    "if len(port_arr) != len(spy_arr):\n",
    "    raise ValueError(\"Mismatch in the length of portfolio and benchmark returns after alignment.\")\n",
    "\n",
    "# Calculate Beta: covariance(portfolio, benchmark) / variance(benchmark)\n",
    "covariance = np.cov(port_arr, spy_arr)[0, 1]\n",
    "beta = covariance / np.var(spy_arr)\n",
    "\n",
    "# Calculate annualized risk metrics for the portfolio\n",
    "annualized_return = portfolio_returns.mean() * 252\n",
    "annualized_volatility = portfolio_returns.std() * np.sqrt(252)\n",
    "sharpe_ratio = (annualized_return) / annualized_volatility  # Assuming risk-free rate ~ 0\n",
    "\n",
    "# Prepare portfolio statistics summary\n",
    "portfolio_stats = pd.DataFrame({\n",
    "    'Annualized Return': [annualized_return],\n",
    "    'Annualized Volatility': [annualized_volatility],\n",
    "    'Sharpe Ratio': [sharpe_ratio],\n",
    "    'Beta': [beta]\n",
    "})\n",
    "\n",
    "print(\"Portfolio Analysis Tool:\")\n",
    "print(portfolio_stats)\n"
   ]
  },
  {
   "cell_type": "markdown",
   "metadata": {},
   "source": [
    "#### Market sentiment analyzer:\n",
    "- Download index data (S&P 500, NASDAQ)\n",
    "- Calculate market breadth indicators\n",
    "- Generate market health report"
   ]
  },
  {
   "cell_type": "code",
   "execution_count": 13,
   "metadata": {},
   "outputs": [
    {
     "name": "stderr",
     "output_type": "stream",
     "text": [
      "[*********************100%***********************]  2 of 2 completed"
     ]
    },
    {
     "name": "stdout",
     "output_type": "stream",
     "text": [
      "Market Sentiment Analyzer:\n",
      "       Average Daily Return  Daily Volatility  Positive Days (%)\n",
      "^GSPC              0.000922          0.008258          55.020080\n",
      "^IXIC              0.001540          0.010958          56.626506\n"
     ]
    },
    {
     "name": "stderr",
     "output_type": "stream",
     "text": [
      "\n"
     ]
    }
   ],
   "source": [
    "import yfinance as yf\n",
    "import pandas as pd\n",
    "import numpy as np\n",
    "\n",
    "# Define market indices and date range\n",
    "indices = ['^GSPC', '^IXIC']  # S&P 500 and NASDAQ\n",
    "start_date = '2023-01-01'\n",
    "end_date = '2024-01-01'\n",
    "\n",
    "# Download adjusted close prices for indices\n",
    "index_data = yf.download(indices, start=start_date, end=end_date)['Close']\n",
    "index_returns = index_data.pct_change().dropna()\n",
    "\n",
    "# Market breadth indicator: percentage of days with positive returns for each index\n",
    "breadth = (index_returns > 0).mean() * 100\n",
    "\n",
    "# Generate market health report\n",
    "market_health = pd.DataFrame({\n",
    "    'Average Daily Return': index_returns.mean().values,\n",
    "    'Daily Volatility': index_returns.std().values,\n",
    "    'Positive Days (%)': breadth.values\n",
    "}, index=indices)\n",
    "\n",
    "print(\"Market Sentiment Analyzer:\")\n",
    "print(market_health)\n"
   ]
  },
  {
   "cell_type": "markdown",
   "metadata": {},
   "source": [
    "#### Dividend analysis tool:\n",
    "- Download dividend history\n",
    "- Calculate dividend growth rates\n",
    "- Project future dividend income"
   ]
  },
  {
   "cell_type": "code",
   "execution_count": 14,
   "metadata": {},
   "outputs": [
    {
     "name": "stdout",
     "output_type": "stream",
     "text": [
      "Dividend Analysis for AAPL:\n",
      "Dividend CAGR: 17.68%\n",
      "   Year  Projected Dividend\n",
      "0     1            0.294189\n",
      "1     2            0.346189\n",
      "2     3            0.407380\n",
      "3     4            0.479388\n",
      "4     5            0.564123\n"
     ]
    }
   ],
   "source": [
    "import yfinance as yf\n",
    "import pandas as pd\n",
    "import numpy as np\n",
    "\n",
    "# Define the stock ticker\n",
    "ticker = 'AAPL'\n",
    "t = yf.Ticker(ticker)\n",
    "dividends = t.dividends\n",
    "\n",
    "if len(dividends) < 2:\n",
    "    print(\"Not enough dividend data to calculate growth rate.\")\n",
    "else:\n",
    "    # Calculate dividend CAGR (Compound Annual Growth Rate)\n",
    "    first_dividend = dividends.iloc[0]\n",
    "    last_dividend = dividends.iloc[-1]\n",
    "    num_years = (dividends.index[-1] - dividends.index[0]).days / 365.25\n",
    "    dividend_cagr = (last_dividend / first_dividend) ** (1 / num_years) - 1\n",
    "\n",
    "    # Project dividend income for next 5 years based on CAGR\n",
    "    future_dividends = [last_dividend * ((1 + dividend_cagr) ** year) for year in range(1, 6)]\n",
    "    \n",
    "    dividend_report = pd.DataFrame({\n",
    "        'Year': list(range(1, 6)),\n",
    "        'Projected Dividend': future_dividends\n",
    "    })\n",
    "    \n",
    "    print(f\"Dividend Analysis for {ticker}:\")\n",
    "    print(f\"Dividend CAGR: {dividend_cagr:.2%}\")\n",
    "    print(dividend_report)\n"
   ]
  },
  {
   "cell_type": "markdown",
   "metadata": {},
   "source": [
    "#### Sector rotation analysis\n",
    "- Download sector ETF data\n",
    "- Compare sector performance\n",
    "- Identify sector trends"
   ]
  },
  {
   "cell_type": "code",
   "execution_count": 15,
   "metadata": {},
   "outputs": [
    {
     "name": "stderr",
     "output_type": "stream",
     "text": [
      "[*********************100%***********************]  6 of 6 completed"
     ]
    },
    {
     "name": "stdout",
     "output_type": "stream",
     "text": [
      "Sector Rotation Analysis:\n",
      "     Cumulative Return (%)\n",
      "XLY              57.511988\n",
      "XLV              40.476761\n",
      "XLE              17.877255\n",
      "XLF              11.639237\n",
      "XLK               2.984282\n",
      "XLI               2.360457\n"
     ]
    },
    {
     "name": "stderr",
     "output_type": "stream",
     "text": [
      "\n"
     ]
    }
   ],
   "source": [
    "import yfinance as yf\n",
    "import pandas as pd\n",
    "import numpy as np\n",
    "\n",
    "# Define sector ETFs and date range\n",
    "sector_etfs = ['XLK', 'XLF', 'XLE', 'XLY', 'XLI', 'XLV']  # Tech, Finance, Energy, Consumer Discretionary, Industrials, Healthcare\n",
    "start_date = '2023-01-01'\n",
    "end_date = '2024-01-01'\n",
    "\n",
    "# Download adjusted close prices for sector ETFs\n",
    "sector_data = yf.download(sector_etfs, start=start_date, end=end_date)['Close']\n",
    "sector_returns = sector_data.pct_change().dropna()\n",
    "\n",
    "# Calculate cumulative return for each sector ETF over the period\n",
    "cumulative_returns = (sector_data.iloc[-1] / sector_data.iloc[0] - 1) * 100\n",
    "\n",
    "sector_analysis = pd.DataFrame({\n",
    "    'Cumulative Return (%)': cumulative_returns.values\n",
    "}, index=sector_etfs).sort_values(by='Cumulative Return (%)', ascending=False)\n",
    "\n",
    "print(\"Sector Rotation Analysis:\")\n",
    "print(sector_analysis)\n"
   ]
  }
 ],
 "metadata": {
  "kernelspec": {
   "display_name": "FINN_41603_0",
   "language": "python",
   "name": "python3"
  },
  "language_info": {
   "codemirror_mode": {
    "name": "ipython",
    "version": 3
   },
   "file_extension": ".py",
   "mimetype": "text/x-python",
   "name": "python",
   "nbconvert_exporter": "python",
   "pygments_lexer": "ipython3",
   "version": "3.13.1"
  }
 },
 "nbformat": 4,
 "nbformat_minor": 2
}
