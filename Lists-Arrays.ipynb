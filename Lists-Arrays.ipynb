{
 "cells": [
  {
   "cell_type": "markdown",
   "metadata": {},
   "source": [
    "# Lists & Arrays"
   ]
  },
  {
   "cell_type": "markdown",
   "metadata": {},
   "source": [
    "#### Basic portfolio tracker:\n",
    "- Store stock symbols and quantities in lists\n",
    "- Create a list of prices and calculate total value\n",
    "- Use list comprehension to calculate position value"
   ]
  },
  {
   "cell_type": "code",
   "execution_count": 15,
   "metadata": {},
   "outputs": [
    {
     "name": "stdout",
     "output_type": "stream",
     "text": [
      "Total Portfolio Value: $43,517.50\n"
     ]
    }
   ],
   "source": [
    "def portfolio_tracker(symbols, quantities, prices):\n",
    "    \"\"\"\n",
    "    Calculate the total value of a stock portfolio.\n",
    "\n",
    "    Parameters:\n",
    "    symbols (list): List of stock ticker symbols.\n",
    "    quantities (list): List of number of shares owned for each stock.\n",
    "    prices (list): List of current prices for each stock.\n",
    "\n",
    "    Returns:\n",
    "    float: Total portfolio value.\n",
    "    \"\"\"\n",
    "    if len(symbols) != len(quantities) or len(symbols) != len(prices):\n",
    "        raise ValueError(\"All input lists must have the same length.\")\n",
    "\n",
    "    # Calculate position values\n",
    "    position_values = [quantities[i] * prices[i] for i in range(len(symbols))]\n",
    "    \n",
    "    # Compute total portfolio value\n",
    "    total_value = sum(position_values)\n",
    "\n",
    "    return total_value\n",
    "\n",
    "# Example Usage:\n",
    "symbols = ['AAPL', 'MSFT', 'GOOGL']\n",
    "quantities = [100, 50, 75]\n",
    "prices = [175.50, 320.75, 132.40]  # Example stock prices\n",
    "\n",
    "total_portfolio_value = portfolio_tracker(symbols, quantities, prices)\n",
    "print(f\"Total Portfolio Value: ${total_portfolio_value:,.2f}\")\n",
    "\n"
   ]
  },
  {
   "cell_type": "markdown",
   "metadata": {},
   "source": [
    "#### Simple moving average calculator:\n",
    "- Create a list of historical prices\n",
    "- Calculate 5-day and 20-day moving averages\n",
    "- Generate signals when short MA crosses long MA"
   ]
  },
  {
   "cell_type": "code",
   "execution_count": 16,
   "metadata": {},
   "outputs": [
    {
     "name": "stdout",
     "output_type": "stream",
     "text": [
      "Latest 5-day MA: 180.00\n",
      "Latest 20-day MA: 165.10\n",
      "Trading Signal: Buy\n"
     ]
    }
   ],
   "source": [
    "import numpy as np\n",
    "\n",
    "def moving_average_calculator(prices, short_window=5, long_window=20):\n",
    "    \"\"\"\n",
    "    Calculate short-term and long-term moving averages.\n",
    "\n",
    "    Parameters:\n",
    "    prices (list): List of historical stock prices (ordered from oldest to newest).\n",
    "    short_window (int): Number of days for the short moving average.\n",
    "    long_window (int): Number of days for the long moving average.\n",
    "\n",
    "    Returns:\n",
    "    tuple: Latest short-term MA, latest long-term MA, and a trading signal.\n",
    "    \"\"\"\n",
    "    if len(prices) < long_window:\n",
    "        return None, None, \"Insufficient data for moving averages.\"\n",
    "\n",
    "    # Convert list to NumPy array for optimized calculations\n",
    "    prices = np.array(prices)\n",
    "\n",
    "    # Calculate moving averages\n",
    "    short_ma = np.convolve(prices, np.ones(short_window) / short_window, mode='valid')\n",
    "    long_ma = np.convolve(prices, np.ones(long_window) / long_window, mode='valid')\n",
    "\n",
    "    # Get latest values\n",
    "    latest_short_ma = short_ma[-1]\n",
    "    latest_long_ma = long_ma[-1]\n",
    "\n",
    "    # Determine trading signal\n",
    "    signal = \"Buy\" if latest_short_ma > latest_long_ma else \"Sell\"\n",
    "\n",
    "    return latest_short_ma, latest_long_ma, signal\n",
    "\n",
    "# Example Usage:\n",
    "historical_prices = [\n",
    "    150, 152, 153, 149, 151, 155, 158, 160, 157, 159, \n",
    "    162, 165, 168, 170, 172, 171, 175, 178, 180, 182, 185\n",
    "]  # Example price data (21 days)\n",
    "\n",
    "latest_ma5, latest_ma20, trade_signal = moving_average_calculator(historical_prices)\n",
    "\n",
    "print(f\"Latest 5-day MA: {latest_ma5:.2f}\")\n",
    "print(f\"Latest 20-day MA: {latest_ma20:.2f}\")\n",
    "print(f\"Trading Signal: {trade_signal}\")\n",
    "\n",
    "\n"
   ]
  },
  {
   "cell_type": "markdown",
   "metadata": {},
   "source": [
    "#### Bond calculator:\n",
    "- Store bond details (face value, coupon, maturity) in nested lists\n",
    "- Calculate yield to maturity\n",
    "- Compare multiple bonds using list operations"
   ]
  },
  {
   "cell_type": "code",
   "execution_count": 3,
   "metadata": {},
   "outputs": [
    {
     "name": "stdout",
     "output_type": "stream",
     "text": [
      "Bond Details with Highest YTM: [1000, 0.06, 5, 980] YTM: 6.48%\n"
     ]
    }
   ],
   "source": [
    "import numpy_financial as npf\n",
    "\n",
    "# List of bonds: each bond as [face_value, coupon_rate, years_to_maturity, current_price]\n",
    "bonds = [\n",
    "    [1000, 0.05, 10, 950],\n",
    "    [1000, 0.06, 5, 980],\n",
    "    [1000, 0.04, 15, 1020]\n",
    "]\n",
    "\n",
    "def calculate_ytm(face_value, coupon_rate, years, price):\n",
    "    \"\"\"\n",
    "    Approximate Yield to Maturity (YTM) using the cash flow IRR.\n",
    "    \"\"\"\n",
    "    coupon = face_value * coupon_rate\n",
    "    cash_flows = [-price] + [coupon] * (years - 1) + [coupon + face_value]\n",
    "    return npf.irr(cash_flows)\n",
    "\n",
    "# Calculate YTM for each bond and find the bond with the highest YTM\n",
    "ytms = [calculate_ytm(*bond) for bond in bonds]\n",
    "best_bond = bonds[ytms.index(max(ytms))]\n",
    "print(\"Bond Details with Highest YTM:\", best_bond, \"YTM: {:.2%}\".format(max(ytms)))"
   ]
  },
  {
   "cell_type": "markdown",
   "metadata": {},
   "source": [
    "#### Price analyzer:\n",
    "- Create a NumPy array of daily prices\n",
    "- Calculate daily, weekly, and monthly returns"
   ]
  },
  {
   "cell_type": "code",
   "execution_count": 4,
   "metadata": {},
   "outputs": [
    {
     "name": "stdout",
     "output_type": "stream",
     "text": [
      "Daily Returns (%): [ 2.         -0.98039216  3.96039604  1.9047619  -0.93457944  1.88679245\n",
      "  1.85185185 -0.90909091  2.75229358  2.67857143 -1.73913043  2.65486726]\n",
      "Weekly Return (%): 6.0\n",
      "Monthly Return (%): None\n",
      "Highest Price: 116 at position 12\n",
      "Lowest Price: 100 at position 0\n"
     ]
    }
   ],
   "source": [
    "import numpy as np\n",
    "\n",
    "# NumPy array of daily prices (example data)\n",
    "daily_prices = np.array([100, 102, 101, 105, 107, 106, 108, 110, 109, 112, 115, 113, 116])\n",
    "\n",
    "# Calculate daily returns (%)\n",
    "daily_returns = np.diff(daily_prices) / daily_prices[:-1] * 100\n",
    "\n",
    "# For weekly returns, assume 5 trading days per week (minimal example)\n",
    "if len(daily_prices) >= 6:\n",
    "    weekly_return = (daily_prices[5] - daily_prices[0]) / daily_prices[0] * 100\n",
    "else:\n",
    "    weekly_return = None\n",
    "\n",
    "# For monthly returns, assume 21 trading days in a month (if available)\n",
    "if len(daily_prices) >= 22:\n",
    "    monthly_return = (daily_prices[21] - daily_prices[0]) / daily_prices[0] * 100\n",
    "else:\n",
    "    monthly_return = None\n",
    "\n",
    "# Find highest and lowest prices and their positions\n",
    "highest_price = np.max(daily_prices)\n",
    "lowest_price = np.min(daily_prices)\n",
    "highest_index = np.argmax(daily_prices)\n",
    "lowest_index = np.argmin(daily_prices)\n",
    "\n",
    "print(\"Daily Returns (%):\", daily_returns)\n",
    "print(\"Weekly Return (%):\", weekly_return)\n",
    "print(\"Monthly Return (%):\", monthly_return)\n",
    "print(\"Highest Price: {} at position {}\".format(highest_price, highest_index))\n",
    "print(\"Lowest Price: {} at position {}\".format(lowest_price, lowest_index))\n"
   ]
  },
  {
   "cell_type": "markdown",
   "metadata": {},
   "source": [
    "#### Simple asset allocation tool \n",
    "- Store current and target allocations in arrays\n",
    "- Calculate allocation differences\n",
    "- Determine rebalancing needs"
   ]
  },
  {
   "cell_type": "code",
   "execution_count": 5,
   "metadata": {},
   "outputs": [
    {
     "name": "stdout",
     "output_type": "stream",
     "text": [
      "Current Allocations: [0.25 0.35 0.2  0.2 ]\n",
      "Target Allocations: [0.3 0.3 0.2 0.2]\n",
      "Allocation Differences: [ 0.05 -0.05  0.    0.  ]\n",
      "Rebalancing Signals: ['Buy', 'Sell', 'Hold', 'Hold']\n"
     ]
    }
   ],
   "source": [
    "import numpy as np\n",
    "\n",
    "# Current and target allocations for 4 assets (as proportions)\n",
    "current_allocations = np.array([0.25, 0.35, 0.20, 0.20])\n",
    "target_allocations  = np.array([0.30, 0.30, 0.20, 0.20])\n",
    "\n",
    "# Calculate allocation differences\n",
    "allocation_diff = target_allocations - current_allocations\n",
    "\n",
    "# Determine rebalancing needs: \"Buy\" if short, \"Sell\" if over, \"Hold\" if equal\n",
    "rebalancing_signal = [\"Buy\" if diff > 0 else \"Sell\" if diff < 0 else \"Hold\" for diff in allocation_diff]\n",
    "\n",
    "print(\"Current Allocations:\", current_allocations)\n",
    "print(\"Target Allocations:\", target_allocations)\n",
    "print(\"Allocation Differences:\", allocation_diff)\n",
    "print(\"Rebalancing Signals:\", rebalancing_signal)\n"
   ]
  },
  {
   "cell_type": "markdown",
   "metadata": {},
   "source": [
    "#### Basic risk calculator\n",
    "- Store historical returns in NumPy arrays\n",
    "- Calculate correlation between assets\n",
    "- Compute portfolio volatility"
   ]
  },
  {
   "cell_type": "code",
   "execution_count": 6,
   "metadata": {},
   "outputs": [
    {
     "name": "stdout",
     "output_type": "stream",
     "text": [
      "Correlation between assets: 0.9780490616437626\n",
      "Portfolio Volatility (Annualized): 0.1854\n"
     ]
    }
   ],
   "source": [
    "import numpy as np\n",
    "\n",
    "# Historical daily returns for two assets (example data)\n",
    "returns_asset1 = np.array([0.01, -0.005, 0.02, -0.01, 0.015])\n",
    "returns_asset2 = np.array([0.012, -0.006, 0.018, -0.008, 0.02])\n",
    "\n",
    "# Calculate correlation between the two assets\n",
    "correlation = np.corrcoef(returns_asset1, returns_asset2)[0, 1]\n",
    "\n",
    "# Compute portfolio volatility (annualized) for an equally weighted portfolio\n",
    "portfolio_returns = (returns_asset1 + returns_asset2) / 2\n",
    "portfolio_volatility = np.std(portfolio_returns) * np.sqrt(252)\n",
    "\n",
    "print(\"Correlation between assets:\", correlation)\n",
    "print(\"Portfolio Volatility (Annualized): {:.4f}\".format(portfolio_volatility))\n"
   ]
  }
 ],
 "metadata": {
  "kernelspec": {
   "display_name": "FINN_41603_0",
   "language": "python",
   "name": "python3"
  },
  "language_info": {
   "codemirror_mode": {
    "name": "ipython",
    "version": 3
   },
   "file_extension": ".py",
   "mimetype": "text/x-python",
   "name": "python",
   "nbconvert_exporter": "python",
   "pygments_lexer": "ipython3",
   "version": "3.13.1"
  }
 },
 "nbformat": 4,
 "nbformat_minor": 2
}
