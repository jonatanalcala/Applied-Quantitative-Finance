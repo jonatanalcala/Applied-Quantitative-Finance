{
 "cells": [
  {
   "cell_type": "markdown",
   "metadata": {},
   "source": [
    "# Python Basics: Variables, Data Types, & Operations"
   ]
  },
  {
   "cell_type": "markdown",
   "metadata": {},
   "source": [
    "#### 1. Variables of different data types (int, float, string) to store financial data:\n",
    "- Stock price (float)\n",
    "- Number of shares (int)\n",
    "- Company ticker symbol (string)"
   ]
  },
  {
   "cell_type": "code",
   "execution_count": 1,
   "metadata": {},
   "outputs": [
    {
     "name": "stdout",
     "output_type": "stream",
     "text": [
      "YF.download() has changed argument auto_adjust default to True\n"
     ]
    },
    {
     "name": "stderr",
     "output_type": "stream",
     "text": [
      "[*********************100%***********************]  1 of 1 completed"
     ]
    },
    {
     "name": "stdout",
     "output_type": "stream",
     "text": [
      "   Stock Price  Number of Shares Company Ticker Symbol\n",
      "0   380.160004               100                  MSFT\n"
     ]
    },
    {
     "name": "stderr",
     "output_type": "stream",
     "text": [
      "\n",
      "C:\\Users\\jonat\\AppData\\Local\\Temp\\ipykernel_98264\\3722239078.py:10: FutureWarning: Calling float on a single element Series is deprecated and will raise a TypeError in the future. Use float(ser.iloc[0]) instead\n",
      "  stock_price = float(closing_price.iloc[-1])\n"
     ]
    }
   ],
   "source": [
    "# Importing packages\n",
    "import yfinance as yf\n",
    "import pandas as pd\n",
    "\n",
    "# Download stock data for MSFT\n",
    "data = yf.download(\"MSFT\")\n",
    "\n",
    "# Extract the closing price (float)\n",
    "closing_price = data['Close']\n",
    "stock_price = float(closing_price.iloc[-1])\n",
    "\n",
    "# Define the number of shares (int)\n",
    "number_of_shares = 100 \n",
    "\n",
    "# Define the company ticker symbol (string)\n",
    "company_ticker_symbol = \"MSFT\"\n",
    "\n",
    "# Create a DataFrame to store everything\n",
    "financial_data = pd.DataFrame({\n",
    "    'Stock Price': [stock_price],\n",
    "    'Number of Shares': [number_of_shares],\n",
    "    'Company Ticker Symbol': [company_ticker_symbol]\n",
    "})\n",
    "\n",
    "# Print the DataFrame\n",
    "print(financial_data)\n"
   ]
  },
  {
   "cell_type": "markdown",
   "metadata": {},
   "source": [
    "#### Program that calculates the total value of a stock position (price × number of shares)"
   ]
  },
  {
   "cell_type": "code",
   "execution_count": 2,
   "metadata": {},
   "outputs": [
    {
     "name": "stdout",
     "output_type": "stream",
     "text": [
      "The current price of AAPL is: $227.48\n",
      "The total value of your AAPL stock position is: $13,193.84\n"
     ]
    },
    {
     "name": "stderr",
     "output_type": "stream",
     "text": [
      "C:\\Users\\jonat\\AppData\\Local\\Temp\\ipykernel_98264\\3198473272.py:31: FutureWarning: Series.__getitem__ treating keys as positions is deprecated. In a future version, integer keys will always be treated as labels (consistent with DataFrame behavior). To access a value by position, use `ser.iloc[pos]`\n",
      "  return stock_info['Close'][0]  # Return the closing price of the most recent day\n"
     ]
    }
   ],
   "source": [
    "import yfinance as yf\n",
    "\n",
    "# Function to calculate total value of stock position\n",
    "def total_value(price, number_of_shares):\n",
    "    \"\"\"\n",
    "    Function that calculates the total value of a stock position.\n",
    "    \n",
    "    Parameters:\n",
    "    price (float): The price of a single share of stock.\n",
    "    number_of_shares (int): The number of shares owned.\n",
    "    \n",
    "    Returns:\n",
    "    float: The total value of the stock position.\n",
    "    \"\"\"\n",
    "    total_value = price * number_of_shares\n",
    "    return total_value\n",
    "\n",
    "# Function to get stock price using Yahoo Finance\n",
    "def get_stock_price(ticker_symbol):\n",
    "    \"\"\"\n",
    "    Function to fetch the current stock price from Yahoo Finance for a given ticker symbol.\n",
    "    \n",
    "    Parameters:\n",
    "    ticker_symbol (str): The stock ticker symbol (e.g., \"MSFT\", \"AAPL\").\n",
    "    \n",
    "    Returns:\n",
    "    float: The current stock price of the given ticker symbol.\n",
    "    \"\"\"\n",
    "    stock = yf.Ticker(ticker_symbol)\n",
    "    stock_info = stock.history(period=\"1d\")  # Get the most recent day's data\n",
    "    return stock_info['Close'][0]  # Return the closing price of the most recent day\n",
    "\n",
    "# Main program\n",
    "def main():\n",
    "    # User input for stock ticker and number of shares\n",
    "    ticker_symbol = input(\"Enter the ticker symbol of the stock (e.g., MSFT, AAPL): \").upper()\n",
    "    number_of_shares = int(input(\"Enter the number of shares you own: \"))\n",
    "    \n",
    "    # Fetch stock price\n",
    "    try:\n",
    "        stock_price = get_stock_price(ticker_symbol)\n",
    "        # Calculate the total value of the stock position\n",
    "        total_stock_value = total_value(stock_price, number_of_shares)\n",
    "        \n",
    "        # Output the result\n",
    "        print(f\"The current price of {ticker_symbol} is: ${stock_price:,.2f}\")\n",
    "        print(f\"The total value of your {ticker_symbol} stock position is: ${total_stock_value:,.2f}\")\n",
    "    \n",
    "    except Exception as e:\n",
    "        print(f\"Error fetching stock data for {ticker_symbol}: {e}\")\n",
    "\n",
    "# Run the program\n",
    "if __name__ == \"__main__\":\n",
    "    main()\n"
   ]
  },
  {
   "cell_type": "markdown",
   "metadata": {},
   "source": [
    "#### Simple interest calculator that takes principal, rate, and time as inputs"
   ]
  },
  {
   "cell_type": "code",
   "execution_count": 3,
   "metadata": {},
   "outputs": [
    {
     "name": "stdout",
     "output_type": "stream",
     "text": [
      "Total interest accrued after 15.0 years: $750.00\n",
      "Total amount after 15.0 years: $1,750.00\n"
     ]
    }
   ],
   "source": [
    "# Creating functions\n",
    "def principle_interest(principle, rate, time):\n",
    "    \"\"\"\n",
    "    Function that calculates simple interest (principle * rate * time) & total amount after interest.\n",
    "    \n",
    "    Parameters:\n",
    "    principle (float): The initial investment or loan amount.\n",
    "    rate (float): The annual interest rate (as a decimal, e.g., 0.05 for 5%).\n",
    "    time (float): The time in years for which the interest is calculated.\n",
    "    \n",
    "    Returns:\n",
    "    str: The total amount (principal + interest) formatted as currency.\n",
    "    \"\"\"\n",
    "    result = principle * (1 + rate * time)\n",
    "\n",
    "    # Format as currency with a dollar symbol\n",
    "    formatted_result = \"${:,.2f}\".format(result)\n",
    "\n",
    "    return formatted_result\n",
    "\n",
    "def interest(principle, rate, time):\n",
    "    \"\"\"\n",
    "    Function that calculates simple interest accrued (principle * rate * time).\n",
    "    \n",
    "    Parameters:\n",
    "    principle (float): The initial investment or loan amount.\n",
    "    rate (float): The annual interest rate (as a decimal, e.g., 0.05 for 5%).\n",
    "    time (float): The time in years for which the interest is calculated.\n",
    "    \n",
    "    Returns:\n",
    "    str: The interest accrued formatted as currency.\n",
    "    \"\"\"\n",
    "    result = principle * rate * time\n",
    "\n",
    "    # Format as currency with a dollar symbol\n",
    "    formatted_result = \"${:,.2f}\".format(result)\n",
    "\n",
    "    return formatted_result\n",
    "\n",
    "# Main program\n",
    "def main():\n",
    "    # User input for principal, rate, and time (in years)\n",
    "    principle = float(input(\"Enter the initial principal amount: $\"))\n",
    "    r = float(input(\"Enter the annual interest rate (as a decimal, e.g., 0.05 for 5%): \"))\n",
    "    yrs = float(input(\"Enter the number of years: \"))\n",
    "    \n",
    "    # Calling functions\n",
    "    total = principle_interest(principle, r, yrs)\n",
    "    interest_accrued = interest(principle, r, yrs)\n",
    "    \n",
    "    # Printing results\n",
    "    print(f'Total interest accrued after {yrs} years: {interest_accrued}')\n",
    "    print(f'Total amount after {yrs} years: {total}')\n",
    "\n",
    "# Run the program\n",
    "if __name__ == \"__main__\":\n",
    "    main()\n"
   ]
  },
  {
   "cell_type": "markdown",
   "metadata": {},
   "source": [
    "#### Program that converts currency (e.g., USD to EUR) using a fixed exchange rate"
   ]
  },
  {
   "cell_type": "code",
   "execution_count": 4,
   "metadata": {},
   "outputs": [
    {
     "name": "stdout",
     "output_type": "stream",
     "text": [
      "$15.00 converted to Euros is: €14.40\n"
     ]
    }
   ],
   "source": [
    "# Currency conversion function\n",
    "def USD_EUR(usd_amt):\n",
    "    \"\"\"\n",
    "    Function to convert USD to EUR.\n",
    "    \n",
    "    Parameters:\n",
    "    usd_amt (float): The amount in USD to convert to EUR.\n",
    "    \n",
    "    Returns:\n",
    "    str: The amount in EUR formatted as currency.\n",
    "    \"\"\"\n",
    "    fixed_rate = 0.96  # USD/EUR exchange rate as of 1/31\n",
    "\n",
    "    # Convert USD to EUR\n",
    "    result = usd_amt * fixed_rate\n",
    "\n",
    "    # Format the result as currency\n",
    "    formatted_result = \"€{:,.2f}\".format(result)\n",
    "\n",
    "    return formatted_result\n",
    "\n",
    "# Main program\n",
    "def main():\n",
    "    # User input for the amount in USD\n",
    "    dollar_amount = float(input(\"Enter the amount in USD to convert to EUR: $\"))\n",
    "\n",
    "    # Calling the currency conversion function\n",
    "    result = USD_EUR(dollar_amount)\n",
    "\n",
    "    # Printing the result\n",
    "    print(f'${dollar_amount:,.2f} converted to Euros is: {result}')\n",
    "\n",
    "# Run the program\n",
    "if __name__ == \"__main__\":\n",
    "    main()\n"
   ]
  },
  {
   "cell_type": "markdown",
   "metadata": {},
   "source": [
    "#### Program that calculates the future value of an investment after n years"
   ]
  },
  {
   "cell_type": "code",
   "execution_count": 5,
   "metadata": {},
   "outputs": [
    {
     "name": "stdout",
     "output_type": "stream",
     "text": [
      "The future value of an investment of $50,000.00 at an interest rate of 5.0% for 56 years is: $768,370.62\n"
     ]
    }
   ],
   "source": [
    "# FV function\n",
    "def fv_investment(rate, n, pv):\n",
    "    \"\"\"\n",
    "    Function that calculates the future value (FV) of an investment.\n",
    "    \n",
    "    Parameters:\n",
    "    rate (float): The interest rate per period.\n",
    "    n (int): The number of periods (years).\n",
    "    pv (float): The present value (initial investment).\n",
    "    \n",
    "    Returns:\n",
    "    str: The future value formatted as currency.\n",
    "    \"\"\"\n",
    "    # Calculate future value using the formula\n",
    "    result = pv * (1 + rate)**n\n",
    "\n",
    "    # Format the result to include a dollar sign and two decimal places\n",
    "    formatted_result = \"${:,.2f}\".format(result)\n",
    "\n",
    "    return formatted_result\n",
    "\n",
    "# Main program\n",
    "def main():\n",
    "    # User input for the rate, number of periods, and present value (initial investment)\n",
    "    rate = float(input(\"Enter the annual interest rate (as a decimal, e.g., 0.05 for 5%): \"))\n",
    "    n = int(input(\"Enter the number of years the investment will be held: \"))\n",
    "    pv = float(input(\"Enter the initial investment amount (in dollars): \"))\n",
    "\n",
    "    # Call the function to calculate FV\n",
    "    future_value = fv_investment(rate, n, pv)\n",
    "\n",
    "    # Print the result\n",
    "    print(f\"The future value of an investment of ${pv:,.2f} at an interest rate of {rate*100}% for {n} years is: {future_value}\")\n",
    "\n",
    "# Run the program\n",
    "if __name__ == \"__main__\":\n",
    "    main()\n"
   ]
  },
  {
   "cell_type": "markdown",
   "metadata": {},
   "source": [
    "#### Program that calculates monthly loan payments given principal, interest rate, and years"
   ]
  },
  {
   "cell_type": "code",
   "execution_count": 6,
   "metadata": {},
   "outputs": [
    {
     "name": "stdout",
     "output_type": "stream",
     "text": [
      "The monthly payment for your $1,000,000.00 loan at an interest rate of 8.0% over 15 years is: $9,556.52\n"
     ]
    }
   ],
   "source": [
    "# Monthly Loan Payment function\n",
    "def monthly_loan_pmt(principal, rate, payments_per_year, years):\n",
    "    \"\"\"\n",
    "    Function that calculates monthly loan payments given principal, interest rate, and years\n",
    "\n",
    "    Parameters:\n",
    "    principal (float): Amount financed, or principal\n",
    "    rate (float): Annual interest rate written as decimal (e.g., 0.05 for 5%)\n",
    "    payments_per_year (int): Number of payments per year (typically 12)\n",
    "    years (int): Loan term in years\n",
    "    \n",
    "    Returns:\n",
    "    str: Monthly loan payment formatted as currency.\n",
    "    \"\"\"\n",
    "    # Calculate monthly loan payments using the loan payment formula\n",
    "    result = (principal * (rate / payments_per_year)) / (1 - (1 + (rate / payments_per_year)) ** (-payments_per_year * years))\n",
    "\n",
    "    # Format the result to include a dollar sign and two decimal places\n",
    "    formatted_result = \"${:,.2f}\".format(result)\n",
    "\n",
    "    return formatted_result   \n",
    "\n",
    "# Main program\n",
    "def main():\n",
    "    # User input for the principal, rate, number of payments per year, number of years\n",
    "    principal = float(input(\"Enter the amount financed, or principal (e.g., 100000): \"))\n",
    "    rate = float(input(\"Enter the annual interest rate as a decimal (e.g., 0.05 for 5%): \"))\n",
    "    payments_per_year = int(input(\"Enter the number of payments per year (typically 12): \"))\n",
    "    years = int(input(\"Enter the number of years the loan term is set for: \"))\n",
    "\n",
    "    # Call the function to calculate monthly loan payments\n",
    "    monthly_payment = monthly_loan_pmt(principal, rate, payments_per_year, years)\n",
    "\n",
    "    # Print the result\n",
    "    print(f\"The monthly payment for your ${principal:,.2f} loan at an interest rate of {rate*100}% over {years} years is: {monthly_payment}\")\n",
    "\n",
    "# Run the program\n",
    "if __name__ == \"__main__\":\n",
    "    main()\n"
   ]
  }
 ],
 "metadata": {
  "kernelspec": {
   "display_name": "FINN_41603_0",
   "language": "python",
   "name": "python3"
  },
  "language_info": {
   "codemirror_mode": {
    "name": "ipython",
    "version": 3
   },
   "file_extension": ".py",
   "mimetype": "text/x-python",
   "name": "python",
   "nbconvert_exporter": "python",
   "pygments_lexer": "ipython3",
   "version": "3.13.1"
  }
 },
 "nbformat": 4,
 "nbformat_minor": 2
}
